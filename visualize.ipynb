{
 "cells": [
  {
   "cell_type": "code",
   "execution_count": null,
   "id": "293d0102",
   "metadata": {},
   "outputs": [
    {
     "data": {
      "text/plain": [
       "========================================================================================================================\n",
       "Layer (type (var_name))                  Input Shape          Output Shape         Param #              Trainable\n",
       "========================================================================================================================\n",
       "TinyVGG (TinyVGG)                        [32, 3, 224, 224]    [32, 3]              --                   True\n",
       "├─Sequential (conv_block_1)              [32, 3, 224, 224]    [32, 10, 110, 110]   --                   True\n",
       "│    └─Conv2d (0)                        [32, 3, 224, 224]    [32, 10, 222, 222]   280                  True\n",
       "│    └─ReLU (1)                          [32, 10, 222, 222]   [32, 10, 222, 222]   --                   --\n",
       "│    └─Conv2d (2)                        [32, 10, 222, 222]   [32, 10, 220, 220]   910                  True\n",
       "│    └─ReLU (3)                          [32, 10, 220, 220]   [32, 10, 220, 220]   --                   --\n",
       "│    └─MaxPool2d (4)                     [32, 10, 220, 220]   [32, 10, 110, 110]   --                   --\n",
       "├─Sequential (conv_block_2)              [32, 10, 110, 110]   [32, 10, 53, 53]     --                   True\n",
       "│    └─Conv2d (0)                        [32, 10, 110, 110]   [32, 10, 108, 108]   910                  True\n",
       "│    └─ReLU (1)                          [32, 10, 108, 108]   [32, 10, 108, 108]   --                   --\n",
       "│    └─Conv2d (2)                        [32, 10, 108, 108]   [32, 10, 106, 106]   910                  True\n",
       "│    └─ReLU (3)                          [32, 10, 106, 106]   [32, 10, 106, 106]   --                   --\n",
       "│    └─MaxPool2d (4)                     [32, 10, 106, 106]   [32, 10, 53, 53]     --                   --\n",
       "├─Sequential (classifier)                [32, 10, 53, 53]     [32, 3]              --                   True\n",
       "│    └─Flatten (0)                       [32, 10, 53, 53]     [32, 28090]          --                   --\n",
       "│    └─Linear (1)                        [32, 28090]          [32, 3]              84,273               True\n",
       "========================================================================================================================\n",
       "Total params: 87,283\n",
       "Trainable params: 87,283\n",
       "Non-trainable params: 0\n",
       "Total mult-adds (Units.GIGABYTES): 2.52\n",
       "========================================================================================================================\n",
       "Input size (MB): 19.27\n",
       "Forward/backward pass size (MB): 308.70\n",
       "Params size (MB): 0.35\n",
       "Estimated Total Size (MB): 328.31\n",
       "========================================================================================================================"
      ]
     },
     "execution_count": 2,
     "metadata": {},
     "output_type": "execute_result"
    }
   ],
   "source": [
    "from torchinfo import summary\n",
    "import model.TinyVGG as tinyVGG\n",
    "model = tinyVGG.TinyVGG(input_shape=3,\n",
    "                                hidden_units=10, \n",
    "                                output_shape=3)\n",
    "# Print a summary using torchinfo (uncomment for actual output)\n",
    "summary(model=model, \n",
    "        input_size=(32, 3, 224, 224), # make sure this is \"input_size\", not \"input_shape\"\n",
    "        # col_names=[\"input_size\"], # uncomment for smaller output\n",
    "        col_names=[\"input_size\", \"output_size\", \"num_params\", \"trainable\"],\n",
    "        col_width=20,\n",
    "        row_settings=[\"var_names\"]\n",
    ")"
   ]
  }
 ],
 "metadata": {
  "kernelspec": {
   "display_name": "base",
   "language": "python",
   "name": "python3"
  },
  "language_info": {
   "codemirror_mode": {
    "name": "ipython",
    "version": 3
   },
   "file_extension": ".py",
   "mimetype": "text/x-python",
   "name": "python",
   "nbconvert_exporter": "python",
   "pygments_lexer": "ipython3",
   "version": "3.12.9"
  }
 },
 "nbformat": 4,
 "nbformat_minor": 5
}
